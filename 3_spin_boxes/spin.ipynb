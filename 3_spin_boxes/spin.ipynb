{
 "cells": [
  {
   "cell_type": "code",
   "execution_count": 1,
   "id": "9224d269",
   "metadata": {},
   "outputs": [],
   "source": [
    "import PyQt5.QtWidgets as qtw\n",
    "import PyQt5.QtGui as qtg"
   ]
  },
  {
   "cell_type": "code",
   "execution_count": null,
   "id": "ed121926",
   "metadata": {},
   "outputs": [
    {
     "data": {
      "text/plain": [
       "0"
      ]
     },
     "execution_count": 2,
     "metadata": {},
     "output_type": "execute_result"
    }
   ],
   "source": [
    "class MainWindow(qtw.QWidget):\n",
    "    def __init__(self):\n",
    "        super().__init__()\n",
    "        \n",
    "        # add title\n",
    "        self.setWindowTitle(\"Spin Box\")\n",
    "        \n",
    "        #set layout\n",
    "        self.setLayout(qtw.QVBoxLayout())\n",
    "        \n",
    "        #Label\n",
    "        my_label = qtw.QLabel(\"Pick Somthing From The List :\")\n",
    "        my_label.setFont(qtg.QFont('Helvetica', 20))\n",
    "        self.layout().addWidget(my_label)\n",
    "        \n",
    "        #Make the spin Box editable\n",
    "        my_spin = qtw.QSpinBox(self,\n",
    "                                value = 10,\n",
    "                                maximum = 100,\n",
    "                                minimum = 0,\n",
    "                                singleStep = 5)\n",
    "        my_spin.setFont(qtg.QFont('Helvetica', 20))\n",
    "        self.layout().addWidget(my_spin)\n",
    "        \n",
    "        \n",
    "        #button\n",
    "        my_button = qtw.QPushButton(\"Press Me\" , clicked = lambda: press_it())\n",
    "        self.layout().addWidget(my_button)\n",
    "        \n",
    "        self.show()\n",
    "        \n",
    "        def press_it():\n",
    "            my_label.setText(f\"You Picked {my_spin.value()} !\")\n",
    "            \n",
    "            \n",
    "app = qtw.QApplication([])\n",
    "mw = MainWindow()\n",
    "app.exec_()\n",
    "    "
   ]
  },
  {
   "cell_type": "code",
   "execution_count": null,
   "id": "08b14cfd",
   "metadata": {},
   "outputs": [
    {
     "data": {
      "text/plain": [
       "0"
      ]
     },
     "execution_count": 1,
     "metadata": {},
     "output_type": "execute_result"
    }
   ],
   "source": [
    "import PyQt5.QtWidgets as qtw\n",
    "import PyQt5.QtGui as qtg\n",
    "class MainWindow(qtw.QWidget):\n",
    "    def __init__(self):\n",
    "        super().__init__()\n",
    "        \n",
    "        # add title\n",
    "        self.setWindowTitle(\"Spin Box\")\n",
    "        \n",
    "        #set layout\n",
    "        self.setLayout(qtw.QVBoxLayout())\n",
    "        \n",
    "        #Label\n",
    "        my_label = qtw.QLabel(\"Pick Somthing From The List :\")\n",
    "        my_label.setFont(qtg.QFont('Helvetica', 20))\n",
    "        self.layout().addWidget(my_label)\n",
    "        \n",
    "        #Make the spin Box editable\n",
    "        my_spin = qtw.QSpinBox(self,\n",
    "                                value = 10,\n",
    "                                maximum = 100,\n",
    "                                minimum = 0,\n",
    "                                singleStep = 5,\n",
    "                                prefix = \"#\",\n",
    "                                suffix = \" order\")\n",
    "        my_spin.setFont(qtg.QFont('Helvetica', 20))\n",
    "        self.layout().addWidget(my_spin)\n",
    "        \n",
    "        \n",
    "        #button\n",
    "        my_button = qtw.QPushButton(\"Press Me\" , clicked = lambda: press_it())\n",
    "        self.layout().addWidget(my_button)\n",
    "        \n",
    "        self.show()\n",
    "        \n",
    "        def press_it():\n",
    "            my_label.setText(f\"You Picked #{my_spin.value()} order!\")\n",
    "            \n",
    "            \n",
    "app = qtw.QApplication([])\n",
    "mw = MainWindow()\n",
    "app.exec_()"
   ]
  },
  {
   "cell_type": "code",
   "execution_count": 1,
   "id": "f0ecc3c0",
   "metadata": {},
   "outputs": [
    {
     "data": {
      "text/plain": [
       "0"
      ]
     },
     "execution_count": 1,
     "metadata": {},
     "output_type": "execute_result"
    }
   ],
   "source": [
    "import PyQt5.QtWidgets as qtw\n",
    "import PyQt5.QtGui as qtg\n",
    "class MainWindow(qtw.QWidget):\n",
    "    def __init__(self):\n",
    "        super().__init__()\n",
    "        \n",
    "        # add title\n",
    "        self.setWindowTitle(\"Spin Box\")\n",
    "        \n",
    "        #set layout\n",
    "        self.setLayout(qtw.QVBoxLayout())\n",
    "        \n",
    "        #Label\n",
    "        my_label = qtw.QLabel(\"Pick Somthing From The List :\")\n",
    "        my_label.setFont(qtg.QFont('Helvetica', 20))\n",
    "        self.layout().addWidget(my_label)\n",
    "        \n",
    "        #Make the spin Box editable\n",
    "        my_spin = qtw.QDoubleSpinBox(self,\n",
    "                                value = 10.5,\n",
    "                                maximum = 100.1,\n",
    "                                minimum = 0.0,\n",
    "                                singleStep = 5.5,\n",
    "                                prefix = \"#\",\n",
    "                                suffix = \" order\")\n",
    "        my_spin.setFont(qtg.QFont('Helvetica', 20))\n",
    "        self.layout().addWidget(my_spin)\n",
    "        \n",
    "        \n",
    "        #button\n",
    "        my_button = qtw.QPushButton(\"Press Me\" , clicked = lambda: press_it())\n",
    "        self.layout().addWidget(my_button)\n",
    "        \n",
    "        self.show()\n",
    "        \n",
    "        def press_it():\n",
    "            my_label.setText(f\"You Picked #{my_spin.value()} order!\")\n",
    "            \n",
    "            \n",
    "app = qtw.QApplication([])\n",
    "mw = MainWindow()\n",
    "app.exec_()"
   ]
  },
  {
   "cell_type": "code",
   "execution_count": null,
   "id": "63d5137e",
   "metadata": {},
   "outputs": [],
   "source": []
  }
 ],
 "metadata": {
  "kernelspec": {
   "display_name": "Python 3",
   "language": "python",
   "name": "python3"
  },
  "language_info": {
   "codemirror_mode": {
    "name": "ipython",
    "version": 3
   },
   "file_extension": ".py",
   "mimetype": "text/x-python",
   "name": "python",
   "nbconvert_exporter": "python",
   "pygments_lexer": "ipython3",
   "version": "3.13.6"
  }
 },
 "nbformat": 4,
 "nbformat_minor": 5
}
