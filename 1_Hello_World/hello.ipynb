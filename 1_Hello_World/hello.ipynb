{
 "cells": [
  {
   "cell_type": "code",
   "execution_count": null,
   "id": "a0a989f2",
   "metadata": {},
   "outputs": [],
   "source": [
    "import PyQt5.QtWidgets as qtw\n",
    "import PyQt5.QtGui as qtg"
   ]
  },
  {
   "cell_type": "code",
   "execution_count": null,
   "id": "ea51bb67",
   "metadata": {},
   "outputs": [
    {
     "data": {
      "text/plain": [
       "0"
      ]
     },
     "execution_count": 2,
     "metadata": {},
     "output_type": "execute_result"
    }
   ],
   "source": [
    "class MainWindow(qtw.QWidget):\n",
    "    def __init__(self):\n",
    "        super().__init__()\n",
    "        \n",
    "        #add a title\n",
    "        self.setWindowTitle(\"HELLO WORLD!\")\n",
    "        \n",
    "        ## set layout\n",
    "        self.setLayout(qtw.QVBoxLayout()) # VERTICAL\n",
    "        \n",
    "        ## create a label\n",
    "        my_label = qtw.QLabel(\"Hello World !\")\n",
    "        \n",
    "        ## change the font label size \n",
    "        my_label.setFont(qtg.QFont('Helvetica',18))\n",
    "        \n",
    "        self.layout().addWidget(my_label)\n",
    "        \n",
    "        self.show()\n",
    "        \n",
    "app = qtw.QApplication([])\n",
    "mw = MainWindow()\n",
    "\n",
    "app.exec_()"
   ]
  },
  {
   "cell_type": "code",
   "execution_count": null,
   "id": "bb1fd818",
   "metadata": {},
   "outputs": [],
   "source": []
  }
 ],
 "metadata": {
  "kernelspec": {
   "display_name": "Python 3",
   "language": "python",
   "name": "python3"
  },
  "language_info": {
   "codemirror_mode": {
    "name": "ipython",
    "version": 3
   },
   "file_extension": ".py",
   "mimetype": "text/x-python",
   "name": "python",
   "nbconvert_exporter": "python",
   "pygments_lexer": "ipython3",
   "version": "3.13.6"
  }
 },
 "nbformat": 4,
 "nbformat_minor": 5
}
