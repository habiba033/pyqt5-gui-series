{
 "cells": [
  {
   "cell_type": "code",
   "execution_count": 1,
   "id": "a0a989f2",
   "metadata": {},
   "outputs": [],
   "source": [
    "import PyQt5.QtWidgets as qtw"
   ]
  },
  {
   "cell_type": "code",
   "execution_count": null,
   "id": "ea51bb67",
   "metadata": {},
   "outputs": [
    {
     "data": {
      "text/plain": [
       "0"
      ]
     },
     "execution_count": 2,
     "metadata": {},
     "output_type": "execute_result"
    }
   ],
   "source": [
    "## MAIN WINDOW\n",
    "class MainWindow(qtw.QWidget):\n",
    "    def __init__(self):\n",
    "        super().__init__()\n",
    "        \n",
    "        self.show()\n",
    "        \n",
    "app = qtw.QApplication([])\n",
    "mw = MainWindow()\n",
    "app.exec_()"
   ]
  },
  {
   "cell_type": "code",
   "execution_count": 2,
   "id": "bb1fd818",
   "metadata": {},
   "outputs": [
    {
     "data": {
      "text/plain": [
       "0"
      ]
     },
     "execution_count": 2,
     "metadata": {},
     "output_type": "execute_result"
    }
   ],
   "source": [
    "class MainWindow(qtw.QWidget):\n",
    "    def __init__(self):\n",
    "        super().__init__()\n",
    "        ## WHERE WE WRITE THE CODE\n",
    "        \n",
    "        #add a title\n",
    "        self.setWindowTitle(\"Hello World !\")\n",
    "        \n",
    "        #set a layout\n",
    "        self.setLayout(qtw.QVBoxLayout())\n",
    "        \n",
    "        #create a label\n",
    "        my_label = qtw.QLabel(\"Hello , How Are You ?\")\n",
    "        self.layout().addWidget(my_label)\n",
    "        \n",
    "        self.show()\n",
    "        \n",
    "app = qtw.QApplication([])\n",
    "mw = MainWindow()\n",
    "app.exec_()"
   ]
  },
  {
   "cell_type": "code",
   "execution_count": 2,
   "id": "c0590f6d",
   "metadata": {},
   "outputs": [
    {
     "data": {
      "text/plain": [
       "0"
      ]
     },
     "execution_count": 2,
     "metadata": {},
     "output_type": "execute_result"
    }
   ],
   "source": [
    "import PyQt5.QtGui as qtg\n",
    "import PyQt5.QtWidgets as qtw\n",
    "class MainWindow(qtw.QWidget):\n",
    "    def __init__(self):\n",
    "        super().__init__()\n",
    "        ## WHERE WE WRITE THE CODE        \n",
    "        #add a title\n",
    "        self.setWindowTitle(\"Hello World !\")\n",
    "        \n",
    "        #set a layout\n",
    "        self.setLayout(qtw.QVBoxLayout())\n",
    "        \n",
    "        #create a label\n",
    "        my_label = qtw.QLabel(\"Hello , How Are You ?\")\n",
    "        \n",
    "        #change the font\n",
    "        my_label.setFont(qtg.QFont('Helvetica',18))\n",
    "        self.layout().addWidget(my_label)\n",
    "        \n",
    "        self.show()\n",
    "        \n",
    "app = qtw.QApplication([])\n",
    "mw = MainWindow()\n",
    "app.exec_()"
   ]
  },
  {
   "cell_type": "code",
   "execution_count": null,
   "id": "858eb218",
   "metadata": {},
   "outputs": [
    {
     "data": {
      "text/plain": [
       "0"
      ]
     },
     "execution_count": 1,
     "metadata": {},
     "output_type": "execute_result"
    }
   ],
   "source": [
    "import PyQt5.QtGui as qtg\n",
    "import PyQt5.QtWidgets as qtw\n",
    "class MainWindow(qtw.QWidget):\n",
    "    def __init__(self):\n",
    "        super().__init__()\n",
    "        ## WHERE WE WRITE THE CODE        \n",
    "        #add a title\n",
    "        self.setWindowTitle(\"Hello World !\")\n",
    "        \n",
    "        #set a layout\n",
    "        self.setLayout(qtw.QVBoxLayout())\n",
    "        \n",
    "        #create a label\n",
    "        my_label = qtw.QLabel(\"Hello , How Are You ?\")\n",
    "        \n",
    "        #change the font\n",
    "        my_label.setFont(qtg.QFont('Helvetica',18))\n",
    "        self.layout().addWidget(my_label)\n",
    "        \n",
    "        #create an entry Box\n",
    "        my_entre = qtw.QLineEdit()\n",
    "        #box name\n",
    "        my_entre.setObjectName(\"name_field\")\n",
    "        #Set text\n",
    "        my_entre.setText(\"Enter your Name : \")\n",
    "        self.layout().addWidget(my_entre)\n",
    "        \n",
    "        self.show()\n",
    "        \n",
    "app = qtw.QApplication([])\n",
    "mw = MainWindow()\n",
    "app.exec_()"
   ]
  },
  {
   "cell_type": "code",
   "execution_count": null,
   "id": "9e9895cf",
   "metadata": {},
   "outputs": [
    {
     "data": {
      "text/plain": [
       "0"
      ]
     },
     "execution_count": 1,
     "metadata": {},
     "output_type": "execute_result"
    }
   ],
   "source": [
    "import PyQt5.QtGui as qtg\n",
    "import PyQt5.QtWidgets as qtw\n",
    "class MainWindow(qtw.QWidget):\n",
    "    def __init__(self):\n",
    "        super().__init__()\n",
    "        ## WHERE WE WRITE THE CODE        \n",
    "        #add a title\n",
    "        self.setWindowTitle(\"Hello World !\")\n",
    "        \n",
    "        #set a layout\n",
    "        self.setLayout(qtw.QVBoxLayout())\n",
    "        \n",
    "        #create a label\n",
    "        my_label = qtw.QLabel(\"Hello ,  What's your name ?\")\n",
    "        \n",
    "        #change the font\n",
    "        my_label.setFont(qtg.QFont('Helvetica',18))\n",
    "        self.layout().addWidget(my_label)\n",
    "        \n",
    "        #create an entry Box\n",
    "        my_entre = qtw.QLineEdit()\n",
    "        #box name\n",
    "        my_entre.setObjectName(\"name_field\")\n",
    "        #Set text\n",
    "        my_entre.setText(\"\")\n",
    "        self.layout().addWidget(my_entre)\n",
    "        \n",
    "        #create a button\n",
    "        my_btn = qtw.QPushButton(\"Press Me\" , \n",
    "                                clicked = lambda : press_it())\n",
    "        self.layout().addWidget(my_btn)\n",
    "        \n",
    "        self.show()\n",
    "        \n",
    "        def press_it():\n",
    "            # Add name to label\n",
    "            my_label.setText(f\"Hello ,{my_entre.text()}\")\n",
    "            #set the entre\n",
    "            my_entre.setText(\"\")\n",
    "        \n",
    "app = qtw.QApplication([])\n",
    "mw = MainWindow()\n",
    "app.exec_()"
   ]
  },
  {
   "cell_type": "code",
   "execution_count": null,
   "id": "f66425d6",
   "metadata": {},
   "outputs": [],
   "source": []
  }
 ],
 "metadata": {
  "kernelspec": {
   "display_name": "Python 3",
   "language": "python",
   "name": "python3"
  },
  "language_info": {
   "codemirror_mode": {
    "name": "ipython",
    "version": 3
   },
   "file_extension": ".py",
   "mimetype": "text/x-python",
   "name": "python",
   "nbconvert_exporter": "python",
   "pygments_lexer": "ipython3",
   "version": "3.13.6"
  }
 },
 "nbformat": 4,
 "nbformat_minor": 5
}
