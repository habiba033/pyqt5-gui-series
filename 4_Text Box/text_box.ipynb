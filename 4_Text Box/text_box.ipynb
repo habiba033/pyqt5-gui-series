{
 "cells": [
  {
   "cell_type": "code",
   "execution_count": null,
   "id": "cddcf58a",
   "metadata": {},
   "outputs": [
    {
     "data": {
      "text/plain": [
       "0"
      ]
     },
     "execution_count": 1,
     "metadata": {},
     "output_type": "execute_result"
    }
   ],
   "source": [
    "import PyQt5.QtWidgets as qtw\n",
    "import PyQt5.QtGui as qtg\n",
    "\n",
    "class MainWindow(qtw.QWidget):\n",
    "    def __init__(self):\n",
    "        super().__init__()\n",
    "        \n",
    "        # add title\n",
    "        self.setWindowTitle(\"Text Box\")\n",
    "        \n",
    "        #set layout\n",
    "        self.setLayout(qtw.QVBoxLayout())\n",
    "        \n",
    "        #Label\n",
    "        my_label = qtw.QLabel(\"Write in the Box\")\n",
    "        my_label.setFont(qtg.QFont('Helvetica', 20))\n",
    "        self.layout().addWidget(my_label)\n",
    "        \n",
    "        #CREATE THE TEXT BOX\n",
    "        my_txt = qtw.QTextEdit(self,\n",
    "                            lineWrapMode = qtw.QTextEdit.FixedColumnWidth,\n",
    "                            lineWrapColumnOrWidth= 20,\n",
    "                            placeholderText= \"Hello ,There !\",\n",
    "                            readOnly = False)\n",
    "        \n",
    "        self.layout().addWidget(my_txt)\n",
    "        \n",
    "        #button\n",
    "        my_button = qtw.QPushButton(\"Press Me\" , clicked = lambda: press_it())\n",
    "        self.layout().addWidget(my_button)\n",
    "        \n",
    "        self.show()\n",
    "        \n",
    "        def press_it():\n",
    "            my_label.setText(f\"You Typed {my_txt.toPlainText()} !\")\n",
    "            \n",
    "            \n",
    "app = qtw.QApplication([])\n",
    "mw = MainWindow()\n",
    "app.exec_()\n",
    "    "
   ]
  },
  {
   "cell_type": "code",
   "execution_count": null,
   "id": "c47e2653",
   "metadata": {},
   "outputs": [
    {
     "data": {
      "text/plain": [
       "0"
      ]
     },
     "execution_count": 1,
     "metadata": {},
     "output_type": "execute_result"
    }
   ],
   "source": [
    "import PyQt5.QtWidgets as qtw\n",
    "import PyQt5.QtGui as qtg\n",
    "\n",
    "class MainWindow(qtw.QWidget):\n",
    "    def __init__(self):\n",
    "        super().__init__()\n",
    "        \n",
    "        # add title\n",
    "        self.setWindowTitle(\"Text Box\")\n",
    "        \n",
    "        #set layout\n",
    "        self.setLayout(qtw.QVBoxLayout())\n",
    "        \n",
    "        #Label\n",
    "        my_label = qtw.QLabel(\"Write in the Box\")\n",
    "        my_label.setFont(qtg.QFont('Helvetica', 20))\n",
    "        self.layout().addWidget(my_label)\n",
    "        \n",
    "        #CREATE THE TEXT BOX\n",
    "        my_txt = qtw.QTextEdit(self,\n",
    "                            lineWrapMode = qtw.QTextEdit.FixedColumnWidth,\n",
    "                            lineWrapColumnOrWidth= 20,\n",
    "                            placeholderText= \"Hello ,There !\",\n",
    "                            readOnly = False,\n",
    "                            #html = \"<center><h1> that's a Big Header </h1></center>\")\n",
    "        )\n",
    "        \n",
    "        self.layout().addWidget(my_txt)\n",
    "        \n",
    "        #button\n",
    "        my_button = qtw.QPushButton(\"Press Me\" , clicked = lambda: press_it())\n",
    "        self.layout().addWidget(my_button)\n",
    "        \n",
    "        self.show()\n",
    "        \n",
    "        def press_it():\n",
    "            my_label.setText(f\"You Typed {my_txt.toPlainText()} !\")\n",
    "            my_txt.setText(\"You Pressed The Button\")\n",
    "            \n",
    "app = qtw.QApplication([])\n",
    "mw = MainWindow()\n",
    "app.exec_()\n",
    "    "
   ]
  },
  {
   "cell_type": "code",
   "execution_count": null,
   "id": "3764174a",
   "metadata": {},
   "outputs": [],
   "source": []
  }
 ],
 "metadata": {
  "kernelspec": {
   "display_name": "Python 3",
   "language": "python",
   "name": "python3"
  },
  "language_info": {
   "codemirror_mode": {
    "name": "ipython",
    "version": 3
   },
   "file_extension": ".py",
   "mimetype": "text/x-python",
   "name": "python",
   "nbconvert_exporter": "python",
   "pygments_lexer": "ipython3",
   "version": "3.13.6"
  }
 },
 "nbformat": 4,
 "nbformat_minor": 5
}
