{
 "cells": [
  {
   "cell_type": "code",
   "execution_count": 1,
   "id": "8a4773fb",
   "metadata": {},
   "outputs": [],
   "source": [
    "import PyQt5.QtWidgets as qtw \n",
    "import PyQt5.QtGui as qtg\n",
    "\n"
   ]
  },
  {
   "cell_type": "code",
   "execution_count": null,
   "id": "f3b44da7",
   "metadata": {},
   "outputs": [
    {
     "data": {
      "text/plain": [
       "0"
      ]
     },
     "execution_count": 2,
     "metadata": {},
     "output_type": "execute_result"
    }
   ],
   "source": [
    "class MainWindow(qtw.QWidget):\n",
    "    def __init__(self):\n",
    "        super().__init__()\n",
    "        \n",
    "        # add title\n",
    "        self.setWindowTitle(\"Combo Box\")\n",
    "        \n",
    "        #set layout\n",
    "        self.setLayout(qtw.QVBoxLayout())\n",
    "        \n",
    "        #Label\n",
    "        my_label = qtw.QLabel(\"Pick Somthing From The List :\")\n",
    "        my_label.setFont(qtg.QFont('Helvetica', 25))\n",
    "        self.layout().addWidget(my_label)\n",
    "        \n",
    "        #combo box\n",
    "        my_combo = qtw.QComboBox(self)\n",
    "        my_combo.addItem(\"pepproni\")\n",
    "        my_combo.addItem(\"mashrom\")\n",
    "        my_combo.addItem(\"pinapple\")\n",
    "        my_combo.addItem(\"cheese\")\n",
    "        self.layout().addWidget(my_combo)\n",
    "        \n",
    "        #button\n",
    "        my_button = qtw.QPushButton(\"Press Me\" , clicked = lambda: press_it())\n",
    "        self.layout().addWidget(my_button)\n",
    "        \n",
    "        self.show()\n",
    "        \n",
    "        def press_it():\n",
    "            my_label.setText(f\"You Picked {my_combo.currentText()}\")\n",
    "            \n",
    "            \n",
    "app = qtw.QApplication([])\n",
    "mw = MainWindow()\n",
    "app.exec_()"
   ]
  },
  {
   "cell_type": "code",
   "execution_count": null,
   "id": "5f9fe99b",
   "metadata": {},
   "outputs": [
    {
     "data": {
      "text/plain": [
       "0"
      ]
     },
     "execution_count": 1,
     "metadata": {},
     "output_type": "execute_result"
    }
   ],
   "source": [
    "import PyQt5.QtWidgets as qtw \n",
    "import PyQt5.QtGui as qtg\n",
    "\n",
    "class MainWindow(qtw.QWidget):\n",
    "    def __init__(self):\n",
    "        super().__init__()\n",
    "        \n",
    "        # add title\n",
    "        self.setWindowTitle(\"Combo Box\")\n",
    "        \n",
    "        #set layout\n",
    "        self.setLayout(qtw.QVBoxLayout())\n",
    "        \n",
    "        #Label\n",
    "        my_label = qtw.QLabel(\"Pick Somthing From The List :\")\n",
    "        my_label.setFont(qtg.QFont('Helvetica', 25))\n",
    "        self.layout().addWidget(my_label)\n",
    "        \n",
    "        #combo box\n",
    "        my_combo = qtw.QComboBox(self)\n",
    "        my_combo.addItem(\"pepproni\",\"item 1\")\n",
    "        my_combo.addItem(\"mashrom\",\"item 2\")\n",
    "        my_combo.addItem(\"pinapple\",3)\n",
    "        my_combo.addItem(\"cheese\",4)\n",
    "        \n",
    "        my_combo.addItems([\"one\",\"two\",\"three\"])\n",
    "        \n",
    "        #insert item in specific index\n",
    "        my_combo.insertItem(2,\"THird thing\")\n",
    "        self.layout().addWidget(my_combo)\n",
    "        #button\n",
    "        my_button = qtw.QPushButton(\"Press Me\" , clicked = lambda: press_it())\n",
    "        self.layout().addWidget(my_button)\n",
    "        \n",
    "        self.show()\n",
    "        \n",
    "        def press_it():\n",
    "            my_label.setText(f\"You Picked {my_combo.currentText()}\")\n",
    "            \n",
    "            \n",
    "app = qtw.QApplication([])\n",
    "mw = MainWindow()\n",
    "app.exec_()"
   ]
  },
  {
   "cell_type": "code",
   "execution_count": null,
   "id": "e10919d8",
   "metadata": {},
   "outputs": [
    {
     "data": {
      "text/plain": [
       "0"
      ]
     },
     "execution_count": 1,
     "metadata": {},
     "output_type": "execute_result"
    }
   ],
   "source": [
    "import PyQt5.QtWidgets as qtw \n",
    "import PyQt5.QtGui as qtg\n",
    "\n",
    "class MainWindow(qtw.QWidget):\n",
    "    def __init__(self):\n",
    "        super().__init__()\n",
    "        \n",
    "        # add title\n",
    "        self.setWindowTitle(\"Combo Box\")\n",
    "        \n",
    "        #set layout\n",
    "        self.setLayout(qtw.QVBoxLayout())\n",
    "        \n",
    "        #Label\n",
    "        my_label = qtw.QLabel(\"Pick Somthing From The List :\")\n",
    "        my_label.setFont(qtg.QFont('Helvetica', 25))\n",
    "        self.layout().addWidget(my_label)\n",
    "        \n",
    "        #Make the combo Box editable\n",
    "        my_combo = qtw.QComboBox(self,\n",
    "                                editable = True,\n",
    "                                insertPolicy = qtw.QComboBox.InsertAtBottom)\n",
    "        \n",
    "        my_combo.addItem(\"pepproni\",\"item 1\")\n",
    "        my_combo.addItem(\"mashrom\",\"item 2\")\n",
    "        my_combo.addItem(\"pinapple\",3)\n",
    "        my_combo.addItem(\"cheese\",4)\n",
    "        \n",
    "        my_combo.addItems([\"one\",\"two\",\"three\"])\n",
    "        \n",
    "        #insert item in specific index\n",
    "        my_combo.insertItem(2,\"THird thing\")\n",
    "        self.layout().addWidget(my_combo)\n",
    "        #button\n",
    "        my_button = qtw.QPushButton(\"Press Me\" , clicked = lambda: press_it())\n",
    "        self.layout().addWidget(my_button)\n",
    "        \n",
    "        self.show()\n",
    "        \n",
    "        def press_it():\n",
    "            my_label.setText(f\"You Picked {my_combo.currentText()} !\")\n",
    "            \n",
    "            \n",
    "app = qtw.QApplication([])\n",
    "mw = MainWindow()\n",
    "app.exec_()"
   ]
  },
  {
   "cell_type": "code",
   "execution_count": null,
   "id": "140d419b",
   "metadata": {},
   "outputs": [],
   "source": []
  }
 ],
 "metadata": {
  "kernelspec": {
   "display_name": "Python 3",
   "language": "python",
   "name": "python3"
  },
  "language_info": {
   "codemirror_mode": {
    "name": "ipython",
    "version": 3
   },
   "file_extension": ".py",
   "mimetype": "text/x-python",
   "name": "python",
   "nbconvert_exporter": "python",
   "pygments_lexer": "ipython3",
   "version": "3.13.6"
  }
 },
 "nbformat": 4,
 "nbformat_minor": 5
}
